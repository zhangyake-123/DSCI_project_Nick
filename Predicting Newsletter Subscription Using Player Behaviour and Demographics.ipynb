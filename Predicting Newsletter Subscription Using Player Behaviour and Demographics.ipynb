{
 "cells": [
  {
   "cell_type": "code",
   "execution_count": 2,
   "id": "a648cd0a-4c56-4a90-8e70-07eda178c964",
   "metadata": {},
   "outputs": [
    {
     "name": "stderr",
     "output_type": "stream",
     "text": [
      "── \u001b[1mAttaching core tidyverse packages\u001b[22m ──────────────────────── tidyverse 2.0.0 ──\n",
      "\u001b[32m✔\u001b[39m \u001b[34mdplyr    \u001b[39m 1.1.4     \u001b[32m✔\u001b[39m \u001b[34mreadr    \u001b[39m 2.1.5\n",
      "\u001b[32m✔\u001b[39m \u001b[34mforcats  \u001b[39m 1.0.0     \u001b[32m✔\u001b[39m \u001b[34mstringr  \u001b[39m 1.5.1\n",
      "\u001b[32m✔\u001b[39m \u001b[34mggplot2  \u001b[39m 3.5.1     \u001b[32m✔\u001b[39m \u001b[34mtibble   \u001b[39m 3.2.1\n",
      "\u001b[32m✔\u001b[39m \u001b[34mlubridate\u001b[39m 1.9.3     \u001b[32m✔\u001b[39m \u001b[34mtidyr    \u001b[39m 1.3.1\n",
      "\u001b[32m✔\u001b[39m \u001b[34mpurrr    \u001b[39m 1.0.2     \n",
      "── \u001b[1mConflicts\u001b[22m ────────────────────────────────────────── tidyverse_conflicts() ──\n",
      "\u001b[31m✖\u001b[39m \u001b[34mdplyr\u001b[39m::\u001b[32mfilter()\u001b[39m masks \u001b[34mstats\u001b[39m::filter()\n",
      "\u001b[31m✖\u001b[39m \u001b[34mdplyr\u001b[39m::\u001b[32mlag()\u001b[39m    masks \u001b[34mstats\u001b[39m::lag()\n",
      "\u001b[36mℹ\u001b[39m Use the conflicted package (\u001b[3m\u001b[34m<http://conflicted.r-lib.org/>\u001b[39m\u001b[23m) to force all conflicts to become errors\n",
      "── \u001b[1mAttaching packages\u001b[22m ────────────────────────────────────── tidymodels 1.1.1 ──\n",
      "\n",
      "\u001b[32m✔\u001b[39m \u001b[34mbroom       \u001b[39m 1.0.6     \u001b[32m✔\u001b[39m \u001b[34mrsample     \u001b[39m 1.2.1\n",
      "\u001b[32m✔\u001b[39m \u001b[34mdials       \u001b[39m 1.3.0     \u001b[32m✔\u001b[39m \u001b[34mtune        \u001b[39m 1.1.2\n",
      "\u001b[32m✔\u001b[39m \u001b[34minfer       \u001b[39m 1.0.7     \u001b[32m✔\u001b[39m \u001b[34mworkflows   \u001b[39m 1.1.4\n",
      "\u001b[32m✔\u001b[39m \u001b[34mmodeldata   \u001b[39m 1.4.0     \u001b[32m✔\u001b[39m \u001b[34mworkflowsets\u001b[39m 1.0.1\n",
      "\u001b[32m✔\u001b[39m \u001b[34mparsnip     \u001b[39m 1.2.1     \u001b[32m✔\u001b[39m \u001b[34myardstick   \u001b[39m 1.3.1\n",
      "\u001b[32m✔\u001b[39m \u001b[34mrecipes     \u001b[39m 1.1.0     \n",
      "\n",
      "── \u001b[1mConflicts\u001b[22m ───────────────────────────────────────── tidymodels_conflicts() ──\n",
      "\u001b[31m✖\u001b[39m \u001b[34mscales\u001b[39m::\u001b[32mdiscard()\u001b[39m masks \u001b[34mpurrr\u001b[39m::discard()\n",
      "\u001b[31m✖\u001b[39m \u001b[34mdplyr\u001b[39m::\u001b[32mfilter()\u001b[39m   masks \u001b[34mstats\u001b[39m::filter()\n",
      "\u001b[31m✖\u001b[39m \u001b[34mrecipes\u001b[39m::\u001b[32mfixed()\u001b[39m  masks \u001b[34mstringr\u001b[39m::fixed()\n",
      "\u001b[31m✖\u001b[39m \u001b[34mdplyr\u001b[39m::\u001b[32mlag()\u001b[39m      masks \u001b[34mstats\u001b[39m::lag()\n",
      "\u001b[31m✖\u001b[39m \u001b[34myardstick\u001b[39m::\u001b[32mspec()\u001b[39m masks \u001b[34mreadr\u001b[39m::spec()\n",
      "\u001b[31m✖\u001b[39m \u001b[34mrecipes\u001b[39m::\u001b[32mstep()\u001b[39m   masks \u001b[34mstats\u001b[39m::step()\n",
      "\u001b[34m•\u001b[39m Use \u001b[32mtidymodels_prefer()\u001b[39m to resolve common conflicts.\n",
      "\n",
      "\n",
      "Attaching package: ‘cowplot’\n",
      "\n",
      "\n",
      "The following object is masked from ‘package:lubridate’:\n",
      "\n",
      "    stamp\n",
      "\n",
      "\n",
      "\u001b[1mRows: \u001b[22m\u001b[34m196\u001b[39m \u001b[1mColumns: \u001b[22m\u001b[34m7\u001b[39m\n",
      "\u001b[36m──\u001b[39m \u001b[1mColumn specification\u001b[22m \u001b[36m────────────────────────────────────────────────────────\u001b[39m\n",
      "\u001b[1mDelimiter:\u001b[22m \",\"\n",
      "\u001b[31mchr\u001b[39m (4): experience, hashedEmail, name, gender\n",
      "\u001b[32mdbl\u001b[39m (2): played_hours, Age\n",
      "\u001b[33mlgl\u001b[39m (1): subscribe\n",
      "\n",
      "\u001b[36mℹ\u001b[39m Use `spec()` to retrieve the full column specification for this data.\n",
      "\u001b[36mℹ\u001b[39m Specify the column types or set `show_col_types = FALSE` to quiet this message.\n",
      "\u001b[1mRows: \u001b[22m\u001b[34m1535\u001b[39m \u001b[1mColumns: \u001b[22m\u001b[34m5\u001b[39m\n",
      "\u001b[36m──\u001b[39m \u001b[1mColumn specification\u001b[22m \u001b[36m────────────────────────────────────────────────────────\u001b[39m\n",
      "\u001b[1mDelimiter:\u001b[22m \",\"\n",
      "\u001b[31mchr\u001b[39m (3): hashedEmail, start_time, end_time\n",
      "\u001b[32mdbl\u001b[39m (2): original_start_time, original_end_time\n",
      "\n",
      "\u001b[36mℹ\u001b[39m Use `spec()` to retrieve the full column specification for this data.\n",
      "\u001b[36mℹ\u001b[39m Specify the column types or set `show_col_types = FALSE` to quiet this message.\n"
     ]
    },
    {
     "data": {
      "text/html": [
       "<table class=\"dataframe\">\n",
       "<caption>A tibble: 6 × 7</caption>\n",
       "<thead>\n",
       "\t<tr><th scope=col>experience</th><th scope=col>subscribe</th><th scope=col>hashedEmail</th><th scope=col>played_hours</th><th scope=col>name</th><th scope=col>gender</th><th scope=col>Age</th></tr>\n",
       "\t<tr><th scope=col>&lt;chr&gt;</th><th scope=col>&lt;lgl&gt;</th><th scope=col>&lt;chr&gt;</th><th scope=col>&lt;dbl&gt;</th><th scope=col>&lt;chr&gt;</th><th scope=col>&lt;chr&gt;</th><th scope=col>&lt;dbl&gt;</th></tr>\n",
       "</thead>\n",
       "<tbody>\n",
       "\t<tr><td>Pro    </td><td> TRUE</td><td>f6daba428a</td><td>30.3</td><td>Morgan   </td><td>Male  </td><td> 9</td></tr>\n",
       "\t<tr><td>Veteran</td><td> TRUE</td><td>f3c813577c</td><td> 3.8</td><td>Christian</td><td>Male  </td><td>17</td></tr>\n",
       "\t<tr><td>Veteran</td><td>FALSE</td><td>b674dd7ee0</td><td> 0.0</td><td>Blake    </td><td>Male  </td><td>17</td></tr>\n",
       "\t<tr><td>Amateur</td><td> TRUE</td><td>23fe711e0e</td><td> 0.7</td><td>Flora    </td><td>Female</td><td>21</td></tr>\n",
       "\t<tr><td>Regular</td><td> TRUE</td><td>7dc01f10bf</td><td> 0.1</td><td>Kylie    </td><td>Male  </td><td>21</td></tr>\n",
       "\t<tr><td>Amateur</td><td> TRUE</td><td>f58aad5996</td><td> 0.0</td><td>Adrian   </td><td>Female</td><td>17</td></tr>\n",
       "</tbody>\n",
       "</table>\n"
      ],
      "text/latex": [
       "A tibble: 6 × 7\n",
       "\\begin{tabular}{lllllll}\n",
       " experience & subscribe & hashedEmail & played\\_hours & name & gender & Age\\\\\n",
       " <chr> & <lgl> & <chr> & <dbl> & <chr> & <chr> & <dbl>\\\\\n",
       "\\hline\n",
       "\t Pro     &  TRUE & f6daba428a & 30.3 & Morgan    & Male   &  9\\\\\n",
       "\t Veteran &  TRUE & f3c813577c &  3.8 & Christian & Male   & 17\\\\\n",
       "\t Veteran & FALSE & b674dd7ee0 &  0.0 & Blake     & Male   & 17\\\\\n",
       "\t Amateur &  TRUE & 23fe711e0e &  0.7 & Flora     & Female & 21\\\\\n",
       "\t Regular &  TRUE & 7dc01f10bf &  0.1 & Kylie     & Male   & 21\\\\\n",
       "\t Amateur &  TRUE & f58aad5996 &  0.0 & Adrian    & Female & 17\\\\\n",
       "\\end{tabular}\n"
      ],
      "text/markdown": [
       "\n",
       "A tibble: 6 × 7\n",
       "\n",
       "| experience &lt;chr&gt; | subscribe &lt;lgl&gt; | hashedEmail &lt;chr&gt; | played_hours &lt;dbl&gt; | name &lt;chr&gt; | gender &lt;chr&gt; | Age &lt;dbl&gt; |\n",
       "|---|---|---|---|---|---|---|\n",
       "| Pro     |  TRUE | f6daba428a | 30.3 | Morgan    | Male   |  9 |\n",
       "| Veteran |  TRUE | f3c813577c |  3.8 | Christian | Male   | 17 |\n",
       "| Veteran | FALSE | b674dd7ee0 |  0.0 | Blake     | Male   | 17 |\n",
       "| Amateur |  TRUE | 23fe711e0e |  0.7 | Flora     | Female | 21 |\n",
       "| Regular |  TRUE | 7dc01f10bf |  0.1 | Kylie     | Male   | 21 |\n",
       "| Amateur |  TRUE | f58aad5996 |  0.0 | Adrian    | Female | 17 |\n",
       "\n"
      ],
      "text/plain": [
       "  experience subscribe hashedEmail played_hours name      gender Age\n",
       "1 Pro         TRUE     f6daba428a  30.3         Morgan    Male    9 \n",
       "2 Veteran     TRUE     f3c813577c   3.8         Christian Male   17 \n",
       "3 Veteran    FALSE     b674dd7ee0   0.0         Blake     Male   17 \n",
       "4 Amateur     TRUE     23fe711e0e   0.7         Flora     Female 21 \n",
       "5 Regular     TRUE     7dc01f10bf   0.1         Kylie     Male   21 \n",
       "6 Amateur     TRUE     f58aad5996   0.0         Adrian    Female 17 "
      ]
     },
     "metadata": {},
     "output_type": "display_data"
    },
    {
     "data": {
      "text/html": [
       "<table class=\"dataframe\">\n",
       "<caption>A tibble: 6 × 5</caption>\n",
       "<thead>\n",
       "\t<tr><th scope=col>hashedEmail</th><th scope=col>start_time</th><th scope=col>end_time</th><th scope=col>original_start_time</th><th scope=col>original_end_time</th></tr>\n",
       "\t<tr><th scope=col>&lt;chr&gt;</th><th scope=col>&lt;chr&gt;</th><th scope=col>&lt;chr&gt;</th><th scope=col>&lt;dbl&gt;</th><th scope=col>&lt;dbl&gt;</th></tr>\n",
       "</thead>\n",
       "<tbody>\n",
       "\t<tr><td>bfce39c89d</td><td>30/06/2024 18:12</td><td>30/06/2024 18:24</td><td>1.71977e+12</td><td>1.71977e+12</td></tr>\n",
       "\t<tr><td>36d9cbb4c6</td><td>17/06/2024 23:33</td><td>17/06/2024 23:46</td><td>1.71867e+12</td><td>1.71867e+12</td></tr>\n",
       "\t<tr><td>f8f5477f5a</td><td>25/07/2024 17:34</td><td>25/07/2024 17:57</td><td>1.72193e+12</td><td>1.72193e+12</td></tr>\n",
       "\t<tr><td>bfce39c89d</td><td>25/07/2024 03:22</td><td>25/07/2024 03:58</td><td>1.72188e+12</td><td>1.72188e+12</td></tr>\n",
       "\t<tr><td>36d9cbb4c6</td><td>25/05/2024 16:01</td><td>25/05/2024 16:12</td><td>1.71665e+12</td><td>1.71665e+12</td></tr>\n",
       "\t<tr><td>bfce39c89d</td><td>23/06/2024 15:08</td><td>23/06/2024 17:10</td><td>1.71916e+12</td><td>1.71916e+12</td></tr>\n",
       "</tbody>\n",
       "</table>\n"
      ],
      "text/latex": [
       "A tibble: 6 × 5\n",
       "\\begin{tabular}{lllll}\n",
       " hashedEmail & start\\_time & end\\_time & original\\_start\\_time & original\\_end\\_time\\\\\n",
       " <chr> & <chr> & <chr> & <dbl> & <dbl>\\\\\n",
       "\\hline\n",
       "\t bfce39c89d & 30/06/2024 18:12 & 30/06/2024 18:24 & 1.71977e+12 & 1.71977e+12\\\\\n",
       "\t 36d9cbb4c6 & 17/06/2024 23:33 & 17/06/2024 23:46 & 1.71867e+12 & 1.71867e+12\\\\\n",
       "\t f8f5477f5a & 25/07/2024 17:34 & 25/07/2024 17:57 & 1.72193e+12 & 1.72193e+12\\\\\n",
       "\t bfce39c89d & 25/07/2024 03:22 & 25/07/2024 03:58 & 1.72188e+12 & 1.72188e+12\\\\\n",
       "\t 36d9cbb4c6 & 25/05/2024 16:01 & 25/05/2024 16:12 & 1.71665e+12 & 1.71665e+12\\\\\n",
       "\t bfce39c89d & 23/06/2024 15:08 & 23/06/2024 17:10 & 1.71916e+12 & 1.71916e+12\\\\\n",
       "\\end{tabular}\n"
      ],
      "text/markdown": [
       "\n",
       "A tibble: 6 × 5\n",
       "\n",
       "| hashedEmail &lt;chr&gt; | start_time &lt;chr&gt; | end_time &lt;chr&gt; | original_start_time &lt;dbl&gt; | original_end_time &lt;dbl&gt; |\n",
       "|---|---|---|---|---|\n",
       "| bfce39c89d | 30/06/2024 18:12 | 30/06/2024 18:24 | 1.71977e+12 | 1.71977e+12 |\n",
       "| 36d9cbb4c6 | 17/06/2024 23:33 | 17/06/2024 23:46 | 1.71867e+12 | 1.71867e+12 |\n",
       "| f8f5477f5a | 25/07/2024 17:34 | 25/07/2024 17:57 | 1.72193e+12 | 1.72193e+12 |\n",
       "| bfce39c89d | 25/07/2024 03:22 | 25/07/2024 03:58 | 1.72188e+12 | 1.72188e+12 |\n",
       "| 36d9cbb4c6 | 25/05/2024 16:01 | 25/05/2024 16:12 | 1.71665e+12 | 1.71665e+12 |\n",
       "| bfce39c89d | 23/06/2024 15:08 | 23/06/2024 17:10 | 1.71916e+12 | 1.71916e+12 |\n",
       "\n"
      ],
      "text/plain": [
       "  hashedEmail start_time       end_time         original_start_time\n",
       "1 bfce39c89d  30/06/2024 18:12 30/06/2024 18:24 1.71977e+12        \n",
       "2 36d9cbb4c6  17/06/2024 23:33 17/06/2024 23:46 1.71867e+12        \n",
       "3 f8f5477f5a  25/07/2024 17:34 25/07/2024 17:57 1.72193e+12        \n",
       "4 bfce39c89d  25/07/2024 03:22 25/07/2024 03:58 1.72188e+12        \n",
       "5 36d9cbb4c6  25/05/2024 16:01 25/05/2024 16:12 1.71665e+12        \n",
       "6 bfce39c89d  23/06/2024 15:08 23/06/2024 17:10 1.71916e+12        \n",
       "  original_end_time\n",
       "1 1.71977e+12      \n",
       "2 1.71867e+12      \n",
       "3 1.72193e+12      \n",
       "4 1.72188e+12      \n",
       "5 1.71665e+12      \n",
       "6 1.71916e+12      "
      ]
     },
     "metadata": {},
     "output_type": "display_data"
    }
   ],
   "source": [
    "library(tidyverse)\n",
    "library(tidymodels)\n",
    "library(lubridate)\n",
    "library(ggplot2)\n",
    "library(cowplot)\n",
    "\n",
    "players <- read_csv(\"data/players.csv\")\n",
    "sessions <- read_csv(\"data/sessions.csv\")\n",
    "players <- players %>%\n",
    "  mutate(hashedEmail = str_sub(hashedEmail, 1, 10))\n",
    "sessions <- sessions %>%\n",
    "  mutate(hashedEmail = str_sub(hashedEmail, 1, 10))\n",
    "head(players)\n",
    "head(sessions)"
   ]
  },
  {
   "cell_type": "code",
   "execution_count": 3,
   "id": "4123e066-0421-4beb-90b0-d209f0a6c388",
   "metadata": {},
   "outputs": [
    {
     "data": {
      "text/html": [
       "<table class=\"dataframe\">\n",
       "<caption>A tibble: 6 × 5</caption>\n",
       "<thead>\n",
       "\t<tr><th scope=col>hashedEmail</th><th scope=col>n_sessions</th><th scope=col>avg_duration</th><th scope=col>prop_night</th><th scope=col>prop_weekend</th></tr>\n",
       "\t<tr><th scope=col>&lt;chr&gt;</th><th scope=col>&lt;int&gt;</th><th scope=col>&lt;dbl&gt;</th><th scope=col>&lt;dbl&gt;</th><th scope=col>&lt;dbl&gt;</th></tr>\n",
       "</thead>\n",
       "<tbody>\n",
       "\t<tr><td>0088b5e134</td><td> 2</td><td>53.00000</td><td>1.0000000</td><td>0.0000000</td></tr>\n",
       "\t<tr><td>060aca80f8</td><td> 1</td><td>30.00000</td><td>1.0000000</td><td>0.0000000</td></tr>\n",
       "\t<tr><td>0ce7bfa910</td><td> 1</td><td>11.00000</td><td>1.0000000</td><td>0.0000000</td></tr>\n",
       "\t<tr><td>0d4d71be33</td><td>13</td><td>32.15385</td><td>0.6923077</td><td>0.4615385</td></tr>\n",
       "\t<tr><td>0d70dd9cac</td><td> 2</td><td>35.00000</td><td>0.5000000</td><td>0.5000000</td></tr>\n",
       "\t<tr><td>11006065e9</td><td> 1</td><td>10.00000</td><td>0.0000000</td><td>1.0000000</td></tr>\n",
       "</tbody>\n",
       "</table>\n"
      ],
      "text/latex": [
       "A tibble: 6 × 5\n",
       "\\begin{tabular}{lllll}\n",
       " hashedEmail & n\\_sessions & avg\\_duration & prop\\_night & prop\\_weekend\\\\\n",
       " <chr> & <int> & <dbl> & <dbl> & <dbl>\\\\\n",
       "\\hline\n",
       "\t 0088b5e134 &  2 & 53.00000 & 1.0000000 & 0.0000000\\\\\n",
       "\t 060aca80f8 &  1 & 30.00000 & 1.0000000 & 0.0000000\\\\\n",
       "\t 0ce7bfa910 &  1 & 11.00000 & 1.0000000 & 0.0000000\\\\\n",
       "\t 0d4d71be33 & 13 & 32.15385 & 0.6923077 & 0.4615385\\\\\n",
       "\t 0d70dd9cac &  2 & 35.00000 & 0.5000000 & 0.5000000\\\\\n",
       "\t 11006065e9 &  1 & 10.00000 & 0.0000000 & 1.0000000\\\\\n",
       "\\end{tabular}\n"
      ],
      "text/markdown": [
       "\n",
       "A tibble: 6 × 5\n",
       "\n",
       "| hashedEmail &lt;chr&gt; | n_sessions &lt;int&gt; | avg_duration &lt;dbl&gt; | prop_night &lt;dbl&gt; | prop_weekend &lt;dbl&gt; |\n",
       "|---|---|---|---|---|\n",
       "| 0088b5e134 |  2 | 53.00000 | 1.0000000 | 0.0000000 |\n",
       "| 060aca80f8 |  1 | 30.00000 | 1.0000000 | 0.0000000 |\n",
       "| 0ce7bfa910 |  1 | 11.00000 | 1.0000000 | 0.0000000 |\n",
       "| 0d4d71be33 | 13 | 32.15385 | 0.6923077 | 0.4615385 |\n",
       "| 0d70dd9cac |  2 | 35.00000 | 0.5000000 | 0.5000000 |\n",
       "| 11006065e9 |  1 | 10.00000 | 0.0000000 | 1.0000000 |\n",
       "\n"
      ],
      "text/plain": [
       "  hashedEmail n_sessions avg_duration prop_night prop_weekend\n",
       "1 0088b5e134   2         53.00000     1.0000000  0.0000000   \n",
       "2 060aca80f8   1         30.00000     1.0000000  0.0000000   \n",
       "3 0ce7bfa910   1         11.00000     1.0000000  0.0000000   \n",
       "4 0d4d71be33  13         32.15385     0.6923077  0.4615385   \n",
       "5 0d70dd9cac   2         35.00000     0.5000000  0.5000000   \n",
       "6 11006065e9   1         10.00000     0.0000000  1.0000000   "
      ]
     },
     "metadata": {},
     "output_type": "display_data"
    }
   ],
   "source": [
    "sessions <- sessions %>%\n",
    "  mutate(\n",
    "    start_dt = dmy_hm(start_time),\n",
    "    end_dt   = dmy_hm(end_time),\n",
    "    duration_mins = as.numeric(difftime(end_dt, start_dt, units = \"mins\")),\n",
    "    hour = hour(start_dt),\n",
    "    wday = wday(start_dt, label = TRUE),\n",
    "    night = if_else(hour >= 20 | hour < 6, 1, 0),\n",
    "    weekend = if_else(wday %in% c(\"Sat\", \"Sun\"), 1, 0)\n",
    "  )\n",
    "\n",
    "session_features <- sessions %>%\n",
    "  group_by(hashedEmail) %>%\n",
    "  summarize(\n",
    "    n_sessions = n(),\n",
    "    avg_duration = mean(duration_mins, na.rm = TRUE),\n",
    "    prop_night = mean(night, na.rm = TRUE),\n",
    "    prop_weekend = mean(weekend, na.rm = TRUE),\n",
    "    .groups = \"drop\"\n",
    "  )\n",
    "session_features <- session_features %>%\n",
    "  mutate(hashedEmail = str_sub(hashedEmail, 1, 10))\n",
    "head(session_features)"
   ]
  },
  {
   "cell_type": "code",
   "execution_count": 4,
   "id": "23adc003-f23c-4a0e-8f99-a3eff1bc5913",
   "metadata": {},
   "outputs": [
    {
     "name": "stdout",
     "output_type": "stream",
     "text": [
      "Rows: 196\n",
      "Columns: 9\n",
      "$ experience   \u001b[3m\u001b[90m<fct>\u001b[39m\u001b[23m Pro, Veteran, Veteran, Amateur, Regular, Amateur, Regular…\n",
      "$ subscribe    \u001b[3m\u001b[90m<fct>\u001b[39m\u001b[23m Subscribed, Subscribed, Not Subscribed, Subscribed, Subsc…\n",
      "$ played_hours \u001b[3m\u001b[90m<dbl>\u001b[39m\u001b[23m 30.3, 3.8, 0.0, 0.7, 0.1, 0.0, 0.0, 0.0, 0.1, 0.0, 1.6, 0…\n",
      "$ gender       \u001b[3m\u001b[90m<chr>\u001b[39m\u001b[23m \"Male\", \"Male\", \"Male\", \"Female\", \"Male\", \"Female\", \"Fema…\n",
      "$ Age          \u001b[3m\u001b[90m<dbl>\u001b[39m\u001b[23m 9, 17, 17, 21, 21, 17, 19, 21, 17, 22, 23, 17, 25, 22, 17…\n",
      "$ n_sessions   \u001b[3m\u001b[90m<int>\u001b[39m\u001b[23m 27, 3, 1, 1, 1, 0, 0, 1, 1, 0, 3, 0, 1, 1, 0, 0, 0, 37, 2…\n",
      "$ avg_duration \u001b[3m\u001b[90m<dbl>\u001b[39m\u001b[23m 74.77778, 85.00000, 5.00000, 50.00000, 9.00000, 0.00000, …\n",
      "$ prop_night   \u001b[3m\u001b[90m<dbl>\u001b[39m\u001b[23m 0.8518519, 1.0000000, 1.0000000, 1.0000000, 1.0000000, 0.…\n",
      "$ prop_weekend \u001b[3m\u001b[90m<dbl>\u001b[39m\u001b[23m 0.5555556, 0.0000000, 0.0000000, 1.0000000, 0.0000000, 0.…\n"
     ]
    }
   ],
   "source": [
    "modeling_data <- players %>%\n",
    "  left_join(session_features, by = \"hashedEmail\") %>%\n",
    "  replace_na(list(n_sessions = 0, avg_duration = 0, \n",
    "                  prop_night = 0, prop_weekend = 0)) %>%\n",
    "  mutate(subscribe = if_else(subscribe, \"Subscribed\", \"Not Subscribed\") %>% \n",
    "                     factor(levels = c(\"Not Subscribed\", \"Subscribed\")),\n",
    "         experience = factor(experience, \n",
    "                             levels = c(\"Beginner\", \"Amateur\", \"Regular\", \n",
    "                                        \"Veteran\", \"Pro\"),\n",
    "                             ordered = FALSE)) %>%\n",
    "  select(-hashedEmail, -name)\n",
    "\n",
    "glimpse(modeling_data)"
   ]
  },
  {
   "cell_type": "code",
   "execution_count": 5,
   "id": "7b70323d-fcae-47b2-b3db-4f31a0432d38",
   "metadata": {},
   "outputs": [],
   "source": [
    "set.seed(123)\n",
    "data_split <- initial_split(modeling_data, prop = 0.75, strata = subscribe)\n",
    "train_data <- training(data_split)\n",
    "test_data  <- testing(data_split)"
   ]
  },
  {
   "cell_type": "code",
   "execution_count": 6,
   "id": "0d09b28b-3961-4875-b1c1-7b9a1c8821d2",
   "metadata": {},
   "outputs": [
    {
     "name": "stderr",
     "output_type": "stream",
     "text": [
      "\n",
      "\n",
      "\u001b[36m──\u001b[39m \u001b[1mRecipe\u001b[22m \u001b[36m──────────────────────────────────────────────────────────────────────\u001b[39m\n",
      "\n",
      "\n",
      "\n",
      "── Inputs \n",
      "\n",
      "Number of variables by role\n",
      "\n",
      "outcome:   1\n",
      "predictor: 6\n",
      "\n",
      "\n",
      "\n",
      "── Operations \n",
      "\n",
      "\u001b[36m•\u001b[39m Variable mutation for: \u001b[34mfactor(subscribe, levels = c(\"Not Subscribed\",\u001b[39m\n",
      "  \u001b[34m\"Subscribed\"))\u001b[39m\n",
      "\n"
     ]
    },
    {
     "data": {
      "text/plain": [
       "Logistic Regression Model Specification (classification)\n",
       "\n",
       "Computational engine: glm \n"
      ]
     },
     "metadata": {},
     "output_type": "display_data"
    }
   ],
   "source": [
    "subscription_recipe <- recipe(subscribe ~ experience + played_hours + n_sessions + \n",
    "                                avg_duration + prop_night + prop_weekend, \n",
    "                              data = train_data)%>%\n",
    "  step_mutate(subscribe = factor(subscribe, levels = c(\"Not Subscribed\", \"Subscribed\")))\n",
    "\n",
    "logistic_spec <- logistic_reg() %>%\n",
    "  set_engine(\"glm\") %>%\n",
    "  set_mode(\"classification\")\n",
    "\n",
    "subscription_workflow <- workflow() %>%\n",
    "  add_recipe(subscription_recipe) %>%\n",
    "  add_model(logistic_spec)\n",
    "\n",
    "subscription_recipe\n",
    "logistic_spec"
   ]
  },
  {
   "cell_type": "code",
   "execution_count": 7,
   "id": "6b5cb246-863c-432c-bd5d-f5a313c0525a",
   "metadata": {},
   "outputs": [
    {
     "name": "stderr",
     "output_type": "stream",
     "text": [
      "→ \u001b[33m\u001b[1mA\u001b[22m\u001b[39m | \u001b[33mwarning\u001b[39m: glm.fit: fitted probabilities numerically 0 or 1 occurred\n",
      "\n",
      "There were issues with some computations   \u001b[1m\u001b[33mA\u001b[39m\u001b[22m: x1\n",
      "\n",
      "There were issues with some computations   \u001b[1m\u001b[33mA\u001b[39m\u001b[22m: x5\n",
      "\n",
      "\n",
      "\n"
     ]
    },
    {
     "data": {
      "text/html": [
       "<table class=\"dataframe\">\n",
       "<caption>A tibble: 2 × 6</caption>\n",
       "<thead>\n",
       "\t<tr><th scope=col>.metric</th><th scope=col>.estimator</th><th scope=col>mean</th><th scope=col>n</th><th scope=col>std_err</th><th scope=col>.config</th></tr>\n",
       "\t<tr><th scope=col>&lt;chr&gt;</th><th scope=col>&lt;chr&gt;</th><th scope=col>&lt;dbl&gt;</th><th scope=col>&lt;int&gt;</th><th scope=col>&lt;dbl&gt;</th><th scope=col>&lt;chr&gt;</th></tr>\n",
       "</thead>\n",
       "<tbody>\n",
       "\t<tr><td>accuracy</td><td>binary</td><td>0.7210181</td><td>5</td><td>0.006325144</td><td>Preprocessor1_Model1</td></tr>\n",
       "\t<tr><td>roc_auc </td><td>binary</td><td>0.4641543</td><td>5</td><td>0.021288113</td><td>Preprocessor1_Model1</td></tr>\n",
       "</tbody>\n",
       "</table>\n"
      ],
      "text/latex": [
       "A tibble: 2 × 6\n",
       "\\begin{tabular}{llllll}\n",
       " .metric & .estimator & mean & n & std\\_err & .config\\\\\n",
       " <chr> & <chr> & <dbl> & <int> & <dbl> & <chr>\\\\\n",
       "\\hline\n",
       "\t accuracy & binary & 0.7210181 & 5 & 0.006325144 & Preprocessor1\\_Model1\\\\\n",
       "\t roc\\_auc  & binary & 0.4641543 & 5 & 0.021288113 & Preprocessor1\\_Model1\\\\\n",
       "\\end{tabular}\n"
      ],
      "text/markdown": [
       "\n",
       "A tibble: 2 × 6\n",
       "\n",
       "| .metric &lt;chr&gt; | .estimator &lt;chr&gt; | mean &lt;dbl&gt; | n &lt;int&gt; | std_err &lt;dbl&gt; | .config &lt;chr&gt; |\n",
       "|---|---|---|---|---|---|\n",
       "| accuracy | binary | 0.7210181 | 5 | 0.006325144 | Preprocessor1_Model1 |\n",
       "| roc_auc  | binary | 0.4641543 | 5 | 0.021288113 | Preprocessor1_Model1 |\n",
       "\n"
      ],
      "text/plain": [
       "  .metric  .estimator mean      n std_err     .config             \n",
       "1 accuracy binary     0.7210181 5 0.006325144 Preprocessor1_Model1\n",
       "2 roc_auc  binary     0.4641543 5 0.021288113 Preprocessor1_Model1"
      ]
     },
     "metadata": {},
     "output_type": "display_data"
    }
   ],
   "source": [
    "set.seed(123)\n",
    "cv_folds <- vfold_cv(train_data, v = 5, strata = subscribe)\n",
    "\n",
    "cv_results <- fit_resamples(\n",
    "  subscription_workflow,\n",
    "  resamples = cv_folds,\n",
    "  metrics = metric_set(accuracy, roc_auc),\n",
    "  control = control_resamples(save_pred = TRUE)\n",
    ")\n",
    "\n",
    "cv_metrics <- collect_metrics(cv_results)\n",
    "cv_metrics"
   ]
  },
  {
   "cell_type": "code",
   "execution_count": 8,
   "id": "60c7930f-b990-4a2c-bb33-ac0a126f8974",
   "metadata": {},
   "outputs": [
    {
     "name": "stderr",
     "output_type": "stream",
     "text": [
      "→ \u001b[33m\u001b[1mA\u001b[22m\u001b[39m | \u001b[33mwarning\u001b[39m: glm.fit: fitted probabilities numerically 0 or 1 occurred\n",
      "\n",
      "There were issues with some computations   \u001b[1m\u001b[33mA\u001b[39m\u001b[22m: x1\n",
      "\n",
      "There were issues with some computations   \u001b[1m\u001b[33mA\u001b[39m\u001b[22m: x1\n",
      "\n",
      "\n",
      "\n"
     ]
    },
    {
     "data": {
      "text/html": [
       "<table class=\"dataframe\">\n",
       "<caption>A tibble: 2 × 4</caption>\n",
       "<thead>\n",
       "\t<tr><th scope=col>.metric</th><th scope=col>.estimator</th><th scope=col>.estimate</th><th scope=col>.config</th></tr>\n",
       "\t<tr><th scope=col>&lt;chr&gt;</th><th scope=col>&lt;chr&gt;</th><th scope=col>&lt;dbl&gt;</th><th scope=col>&lt;chr&gt;</th></tr>\n",
       "</thead>\n",
       "<tbody>\n",
       "\t<tr><td>accuracy</td><td>binary</td><td>0.7346939</td><td>Preprocessor1_Model1</td></tr>\n",
       "\t<tr><td>roc_auc </td><td>binary</td><td>0.4433761</td><td>Preprocessor1_Model1</td></tr>\n",
       "</tbody>\n",
       "</table>\n"
      ],
      "text/latex": [
       "A tibble: 2 × 4\n",
       "\\begin{tabular}{llll}\n",
       " .metric & .estimator & .estimate & .config\\\\\n",
       " <chr> & <chr> & <dbl> & <chr>\\\\\n",
       "\\hline\n",
       "\t accuracy & binary & 0.7346939 & Preprocessor1\\_Model1\\\\\n",
       "\t roc\\_auc  & binary & 0.4433761 & Preprocessor1\\_Model1\\\\\n",
       "\\end{tabular}\n"
      ],
      "text/markdown": [
       "\n",
       "A tibble: 2 × 4\n",
       "\n",
       "| .metric &lt;chr&gt; | .estimator &lt;chr&gt; | .estimate &lt;dbl&gt; | .config &lt;chr&gt; |\n",
       "|---|---|---|---|\n",
       "| accuracy | binary | 0.7346939 | Preprocessor1_Model1 |\n",
       "| roc_auc  | binary | 0.4433761 | Preprocessor1_Model1 |\n",
       "\n"
      ],
      "text/plain": [
       "  .metric  .estimator .estimate .config             \n",
       "1 accuracy binary     0.7346939 Preprocessor1_Model1\n",
       "2 roc_auc  binary     0.4433761 Preprocessor1_Model1"
      ]
     },
     "metadata": {},
     "output_type": "display_data"
    }
   ],
   "source": [
    "final_results <- last_fit(subscription_workflow, split = data_split, \n",
    "                          metrics = metric_set(accuracy, roc_auc))\n",
    "\n",
    "test_metrics <- collect_metrics(final_results)\n",
    "test_metrics"
   ]
  },
  {
   "cell_type": "code",
   "execution_count": null,
   "id": "fed7b003-8942-4331-985a-d14469f40d0e",
   "metadata": {},
   "outputs": [],
   "source": []
  }
 ],
 "metadata": {
  "kernelspec": {
   "display_name": "R",
   "language": "R",
   "name": "ir"
  },
  "language_info": {
   "codemirror_mode": "r",
   "file_extension": ".r",
   "mimetype": "text/x-r-source",
   "name": "R",
   "pygments_lexer": "r",
   "version": "4.3.3"
  }
 },
 "nbformat": 4,
 "nbformat_minor": 5
}
